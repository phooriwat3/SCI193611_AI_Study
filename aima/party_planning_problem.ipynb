{
 "cells": [
  {
   "cell_type": "markdown",
   "id": "ec9e1721",
   "metadata": {},
   "source": [
    "# Party Planning Challenge\n"
   ]
  },
  {
   "cell_type": "code",
   "execution_count": 46,
   "id": "9d52be17",
   "metadata": {},
   "outputs": [
    {
     "name": "stdout",
     "output_type": "stream",
     "text": [
      "✅ Framework detected\n"
     ]
    }
   ],
   "source": [
    "try:\n",
    "    expr; Action; PlanningProblem\n",
    "    print(\"✅ Framework detected\")\n",
    "except NameError:\n",
    "    %run -i ./planning.ipynb    # โหลดนิยามจากไฟล์ที่มีเฟรมเวิร์ก\n",
    "    expr; Action; PlanningProblem\n",
    "    print(\"✅ Loaded from planning.ipynb\")\n"
   ]
  },
  {
   "cell_type": "code",
   "execution_count": 47,
   "id": "0adc16c8",
   "metadata": {},
   "outputs": [
    {
     "name": "stdout",
     "output_type": "stream",
     "text": [
      "🏆 Party Planning Challenge\n",
      "==================================================\n",
      "TODO: เติมโค้ดเพื่อแก้ปัญหาและหาคำตอบที่เหมาะสม\n",
      "Complete the implementation to solve the party planning problem!\n",
      "\n",
      "Hints for students:\n",
      "1. ใช้ตัวแปรในการติดตามเงินและเวลา (Use variables to track money and time)\n",
      "2. คิดเรื่อง preconditions ของแต่ละ action (Think about preconditions)\n",
      "3. พิจารณาความขึ้นต่อกันของงาน (Consider task dependencies)\n",
      "4. หาวิธีประหยัดเวลาและเงินที่สุด (Find most efficient solution)\n"
     ]
    }
   ],
   "source": [
    "# Challenge Problem Starter Code Template\n",
    "# ให้นักเรียนเติมโค้ดเพื่อแก้ปัญหา Party Planning\n",
    "\n",
    "def party_planning_problem():\n",
    "    \"\"\"\n",
    "    🏆 Challenge: Party Planning Problem\n",
    "    ปัญหาท้าทาย: การวางแผนจัดงานปาร์ตี้\n",
    "    \n",
    "    TODO: นักเรียนเติมโค้ดเพื่อสร้าง PlanningProblem\n",
    "    Students should complete this implementation\n",
    "    \"\"\"\n",
    "    \n",
    "    # TODO 1: กำหนด Initial State\n",
    "    init = [\n",
    "        # เติมสถานะเริ่มต้นที่นี่\n",
    "        # Add initial states here\n",
    "        expr('Money(500)'),              # มีเงิน $500\n",
    "        expr('Time(8)'),                 # มีเวลา 8 ชั่วโมง  \n",
    "        expr('~Decorated()'),            # บ้านยังไม่ตกแต่ง\n",
    "        # TODO: เติมเพิ่ม...\n",
    "        expr('~HasDecorations()'),       # ยังไม่มีของตกแต่ง\n",
    "        expr('~Have_Pizza()'),           # ยังไม่มีพิซซ่า\n",
    "        expr('~Have_Sandwich()'),        # ยังไม่มีแซนด์วิช\n",
    "        expr('~Have_Cake()'),            # ยังไม่มีเค้ก\n",
    "        expr('~Have_Drinks()'),          # ยังไม่มีเครื่องดื่ม\n",
    "        expr('~MusicReady()'),           # ยังไม่ได้ตั้งระบบเสียง\n",
    "        expr('~GuestsInvited()'),        # ยังไม่ได้เชิญแขก\n",
    "        expr('~HasIngredients()'),       # ยังไม่มีวัตถุดิบสำหรับทำอาหาร\n",
    "    ]\n",
    "    \n",
    "    # TODO 2: กำหนด Goals\n",
    "    goals = [\n",
    "        # เติมเป้าหมายที่นี่\n",
    "        # Add goals here\n",
    "        expr('Decorated()'),             # บ้านตกแต่งแล้ว\n",
    "        # TODO: เติมเพิ่ม...\n",
    "        expr('Have_Pizza()'),            # มีพิซซ่า\n",
    "        expr('Have_Sandwich()'),         # มีแซนด์วิช\n",
    "        expr('Have_Cake()'),             # มีเค้ก\n",
    "        expr('Have_Drinks()'),           # มีเครื่องดื่ม\n",
    "        expr('MusicReady()'),            # ระบบเสียงพร้อม\n",
    "        expr('GuestsInvited()'),         # เชิญแขกแล้ว\n",
    "    ]\n",
    "    \n",
    "    # TODO 3: กำหนด Actions พร้อม preconditions และ effects\n",
    "    actions = [\n",
    "        # ตัวอย่าง Action\n",
    "        # === ซื้อของตกแต่งและตกแต่งบ้าน ===\n",
    "        Action('BuyDecorations()',\n",
    "               precond='Money(x) & Time(t) & x >= 100 & t >= 2 & ~HasDecorations()',  # มีเงินอย่างน้อย $100\n",
    "               effect='HasDecorations() & Money(x-100) & Time(t-2)'),  # มีของตกแต่งและเงินลด $100\n",
    "        \n",
    "        # TODO: เติม Actions อื่นๆ\n",
    "        # Action('Decorate()', precond='...', effect='...'),\n",
    "        # Action('BuyFood(Pizza)', precond='...', effect='...'),\n",
    "        # ... เติมต่อ\n",
    "        Action('Decorate()',\n",
    "               precond='HasDecorations() & Time(t) & t >= 3 & ~Decorated()',\n",
    "               effect='Decorated() & Time(t-3)'),\n",
    "        \n",
    "        # === ซื้อวัตถุดิบสำหรับทำอาหาร ===\n",
    "        Action('BuyIngredients()',\n",
    "               precond='Money(x) & x >= 40 & ~HasIngredients()',\n",
    "               effect='HasIngredients() & Money(x-40)'),\n",
    "    \n",
    "        # === ซื้ออาหารสำเร็จรูป (ไม่ใช้เวลา) ===\n",
    "        Action('BuyFood_Pizza()',\n",
    "               precond='Money(x) & x >= 50 & ~Have_Pizza()',\n",
    "               effect='Have_Pizza() & Money(x-50)'),\n",
    "        \n",
    "        Action('BuyFood_Sandwich()',\n",
    "               precond='Money(x) & x >= 30 & ~Have_Sandwich()',\n",
    "               effect='Have_Sandwich() & Money(x-30)'),\n",
    "        \n",
    "        Action('BuyFood_Cake()',\n",
    "               precond='Money(x) & x >= 80 & ~Have_Cake()',\n",
    "               effect='Have_Cake() & Money(x-80)'),\n",
    "    \n",
    "        # === ทำอาหารเอง (ใช้เวลา 2 ชม./เมนู แต่ประหยัดเงิน) ===\n",
    "        Action('CookFood_Pizza()',\n",
    "               precond='HasIngredients() & Time(t) & t >= 2 & ~Have_Pizza()',\n",
    "               effect='Have_Pizza() & Time(t-2)'),\n",
    "        \n",
    "        Action('CookFood_Sandwich()',\n",
    "               precond='HasIngredients() & Time(t) & t >= 2 & ~Have_Sandwich()',\n",
    "               effect='Have_Sandwich() & Time(t-2)'),\n",
    "        \n",
    "        Action('CookFood_Cake()',\n",
    "               precond='HasIngredients() & Time(t) & t >= 2 & ~Have_Cake()',\n",
    "               effect='Have_Cake() & Time(t-2)'),\n",
    "    \n",
    "        # === ซื้อเครื่องดื่ม ===\n",
    "        Action('BuyDrinks()',\n",
    "               precond='Money(x) & x >= 60 & ~Have_Drinks()',\n",
    "               effect='Have_Drinks() & Money(x-60)'),\n",
    "    \n",
    "        # === ตั้งระบบเสียงและเชิญแขก ===\n",
    "        Action('SetupMusic()',\n",
    "               precond='Time(t) & t >= 1 & ~MusicReady()',\n",
    "               effect='MusicReady() & Time(t-1)'),\n",
    "        \n",
    "        Action('InviteGuests()',\n",
    "               precond='Time(t) & t >= 1 & ~GuestsInvited()',\n",
    "               effect='GuestsInvited() & Time(t-1)'),\n",
    "    ]\n",
    "    \n",
    "    return PlanningProblem(init, goals, actions)\n",
    "\n",
    "# TODO 4: ทดสอบและหาคำตอบ\n",
    "# Test and find solution\n",
    "\n",
    "print(\"🏆 Party Planning Challenge\")\n",
    "print(\"=\" * 50)\n",
    "print(\"TODO: เติมโค้ดเพื่อแก้ปัญหาและหาคำตอบที่เหมาะสม\")\n",
    "print(\"Complete the implementation to solve the party planning problem!\")\n",
    "print()\n",
    "print(\"Hints for students:\")\n",
    "print(\"1. ใช้ตัวแปรในการติดตามเงินและเวลา (Use variables to track money and time)\")\n",
    "print(\"2. คิดเรื่อง preconditions ของแต่ละ action (Think about preconditions)\")  \n",
    "print(\"3. พิจารณาความขึ้นต่อกันของงาน (Consider task dependencies)\")\n",
    "print(\"4. หาวิธีประหยัดเวลาและเงินที่สุด (Find most efficient solution)\")\n",
    "\n",
    "# ตัวอย่างการใช้งาน (เมื่อเติมโค้ดเสร็จแล้ว)\n",
    "# party_prob = party_planning_problem()\n",
    "# solution = [...] # ใส่ลำดับ actions\n",
    "# for action in solution:\n",
    "#     party_prob.act(action) \n",
    "# print(f\"Success: {party_prob.goal_test()}\")"
   ]
  },
  {
   "cell_type": "markdown",
   "id": "64c98844",
   "metadata": {},
   "source": [
    "## การใช้งาน"
   ]
  },
  {
   "cell_type": "code",
   "execution_count": 48,
   "id": "2754acff",
   "metadata": {},
   "outputs": [
    {
     "name": "stdout",
     "output_type": "stream",
     "text": [
      "🏆 Party Planning Challenge — Test $500 Plan\n",
      "\n",
      "Proposed plan (≤ 8h, minimal time usage):\n",
      "  01. BuyDecorations()\n",
      "  02. Decorate()\n",
      "  03. SetupMusic()\n",
      "  04. InviteGuests()\n",
      "  05. BuyFood_Pizza()\n",
      "  06. BuyFood_Sandwich()\n",
      "  07. BuyFood_Cake()\n",
      "  08. BuyDrinks()\n",
      "✅ Goal Achieved: True\n",
      "หมายเหตุ: ใช้เงิน $320 และเวลา 7 ชม. อยู่ในข้อจำกัดทั้งคู่\n"
     ]
    }
   ],
   "source": [
    "print(\"🏆 Party Planning Challenge — Test $500 Plan\")\n",
    "prob_party = party_planning_problem()\n",
    "\n",
    "solotion = [\n",
    "    expr('BuyDecorations()'),  # -$100, -2h\n",
    "    expr('Decorate()'),        # -3h\n",
    "    expr('SetupMusic()'),      # -1h\n",
    "    expr('InviteGuests()'),    # -1h\n",
    "    expr('BuyFood_Pizza()'),   # -$50\n",
    "    expr('BuyFood_Sandwich()'),# -$30\n",
    "    expr('BuyFood_Cake()'),    # -$80\n",
    "    expr('BuyDrinks()'),       # -$60\n",
    "]\n",
    "\n",
    "print_plan(\"Proposed plan (≤ 8h, minimal time usage):\", solotion)\n",
    "for action in solotion:\n",
    "    party_prob.act(action)\n",
    "\n",
    "print(f\"✅ Goal Achieved: {party_prob.goal_test()}\")\n",
    "print(\"หมายเหตุ: ใช้เงิน $320 และเวลา 7 ชม. อยู่ในข้อจำกัดทั้งคู่\")\n"
   ]
  },
  {
   "cell_type": "markdown",
   "id": "83d2627d",
   "metadata": {},
   "source": [
    "## คำถาม Challenge:"
   ]
  },
  {
   "cell_type": "markdown",
   "id": "c2a7b382",
   "metadata": {},
   "source": [
    "### 1.Planning Optimization: หาวิธีจัดงานปาร์ตี้ที่ประหยัดที่สุดโดยใช้เวลาไม่เกิน 8 ชั่วโมง\n",
    "แผนที่ใช้เวลา ≤ 8 ชม. และจ่ายน้อยสุดคือ “ซื้ออาหารทั้ง 3 อย่าง” (0 ชม.) แล้วทำงานกินเวลารวม 7 ชม. → ใช้ $320\n",
    "\n",
    "### 2.Resource Management: ถ้าเงินมีแค่ $300 จะต้องปรับแผนอย่างไร?\n",
    "ด้วย Time budget 8 ชม. จะ Cook อย่างน้อย 1 เมนู (เพื่อประหยัดเงิน) ต้องซื้อ Ingredients ($40) และใช้เวลา 2 ชม. รวมเวลา 9 ชม. → เกิน 8 ชม.  \n",
    "ดังนั้น **ทำไม่ได้** (ถ้าเพิ่มเวลาหรืออนุญาตหลายเอเจนต์ทำพร้อมกัน สามารถพอทำได้)\n",
    "\n",
    "### 3.Parallel Planning: งานไหนบ้างที่สามารถทำพร้อมกันได้?\n",
    "แนวคิด: ซื้อหลายอย่าง (0 ชม.) พร้อมกันได้, SetupMusic และ InviteGuests พร้อมกันได้ถ้ามีหลายคนช่วย  \n",
    "\n",
    "### 4.Algorithm Selection: ปัญหานี้เหมาะกับอัลกอริทึมไหน? GraphPlan, POP, หรือ Hierarchical Planning? ทำไม?\n",
    "- GraphPlan: ดีสำหรับงานขนาน (แสดง mutex) แต่ numeric fluents ต้อง encode เป็นเงื่อนไข/เอฟเฟกต์อย่างที่ทำ\n",
    "- POP: เหมาะกับ partial order (ซื้อ → ตกแต่ง/เชิญ/เพลง) แล้วค่อย impose ordering เฉพาะที่จำเป็น\n",
    "- HTN: ถ้าขยายระดับงาน (PrepareParty → {Decor, Food, Drinks, Music, Invite}) จะอ่านง่ายและค้นหาเป็นลำดับชั้นได้ดี\n"
   ]
  },
  {
   "cell_type": "markdown",
   "id": "c6b89089",
   "metadata": {},
   "source": [
    "**สรุป:** แผนที่เหมาะสมสำหรับ 8 ชม. และงบ 500 คือ “ซื้อ” ทั้ง 3 เมนู + ตกแต่ง + เพลง + เชิญ + เครื่องดื่ม รวม $320 และ 7 ชม.  \n",
    "กรณีงบ 300 — ภายใต้เวลา 8 ชม. และ agent เดียว ทำไม่ได้ (ต้องเพิ่มเวลา/คน หรือเปลี่ยนเงื่อนไข)\n"
   ]
  }
 ],
 "metadata": {
  "kernelspec": {
   "display_name": "sci193611-py39",
   "language": "python",
   "name": "python3"
  },
  "language_info": {
   "codemirror_mode": {
    "name": "ipython",
    "version": 3
   },
   "file_extension": ".py",
   "mimetype": "text/x-python",
   "name": "python",
   "nbconvert_exporter": "python",
   "pygments_lexer": "ipython3",
   "version": "3.10.18"
  }
 },
 "nbformat": 4,
 "nbformat_minor": 5
}
